import os, sys
import numpy as np
import torch
import torch.nn.functional as F
from torchmetrics import Accuracy
import hydra
from omegaconf import DictConfig # Operate configs as a dict
import wandb
from termcolor import cprint
from tqdm import tqdm

from src.datasets import ThingsMEGDataset
from src.models import BasicConvClassifier
from src.utils import set_seed
from src.preprocess import CAR
from src.widget import plot_raw_signal








set_seed(1234)

# Load raw data
loader_args = {"batch_size": 128, "num_workers": 4}
train_set = ThingsMEGDataset("train", "data")
val_set = ThingsMEGDataset("val", "data")
test_set = ThingsMEGDataset("test", "data")











# 
train_loader = torch.utils.data.DataLoader(train_set, shuffle=True, **loader_args) # [n, ch, seq]
val_loader = torch.utils.data.DataLoader(val_set, shuffle=False, **loader_args) # [n, ch, seq]
test_loader = torch.utils.data.DataLoader(
    test_set, shuffle=False, batch_size=128, num_workers=4
    ) # [n, ch, seq]
