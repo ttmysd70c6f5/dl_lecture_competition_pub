{
 "cells": [
  {
   "cell_type": "code",
   "execution_count": 9,
   "id": "44dc62f8-13f6-488e-82df-a9a09d9368dd",
   "metadata": {},
   "outputs": [],
   "source": [
    "import os, sys\n",
    "import numpy as np\n",
    "import torch\n",
    "import torch.nn.functional as F\n",
    "from torchmetrics import Accuracy\n",
    "import hydra\n",
    "from omegaconf import DictConfig # Operate configs as a dict\n",
    "import wandb\n",
    "from termcolor import cprint\n",
    "from tqdm import tqdm\n",
    "from torcheeg.datasets import DEAPDataset\n",
    "from torcheeg import transforms\n",
    "\n",
    "from src.datasets import ThingsMEGDataset\n",
    "from src.models import BasicConvClassifier\n",
    "from src.utils import set_seed\n",
    "from src.preprocess import CAR\n",
    "from src.widget import plot_raw_signal"
   ]
  },
  {
   "cell_type": "markdown",
   "id": "1d941973-ac74-4205-aac6-6a5392c5f362",
   "metadata": {},
   "source": [
    "## Data loader"
   ]
  },
  {
   "cell_type": "markdown",
   "id": "ce8a9ffc-9c6f-47a0-9ce6-3fa89a35cab0",
   "metadata": {},
   "source": [
    "### Load data"
   ]
  },
  {
   "cell_type": "code",
   "execution_count": 10,
   "id": "507008ec-d3fa-4bfc-ac32-6f9b7bbd7ae5",
   "metadata": {},
   "outputs": [],
   "source": [
    "set_seed(1234)\n",
    "\n",
    "# Load raw data\n",
    "loader_args = {\"batch_size\": 128, \"num_workers\": 4}\n",
    "train_set = ThingsMEGDataset(\"train\", \"data\")\n",
    "val_set = ThingsMEGDataset(\"val\", \"data\")\n",
    "test_set = ThingsMEGDataset(\"test\", \"data\")"
   ]
  },
  {
   "cell_type": "markdown",
   "id": "252c9002-f955-4d66-ab8c-9bb73e9a2880",
   "metadata": {},
   "source": [
    "### Preprocessing"
   ]
  },
  {
   "cell_type": "markdown",
   "id": "7d52cce1-7366-490e-b28a-6fd020d06ab7",
   "metadata": {},
   "source": [
    "- リサンプリング\n",
    "- フィルタリング\n",
    "- スケーリング: z-score normalization\n",
    "- ベースライン補正: common median reference -> done"
   ]
  },
  {
   "cell_type": "code",
   "execution_count": 18,
   "id": "50d5a6dd-141e-41a4-9e37-d47dc288d0ef",
   "metadata": {},
   "outputs": [
    {
     "data": {
      "text/plain": [
       "{'FP1': [0, 3],\n",
       " 'AF3': [1, 3],\n",
       " 'F3': [2, 2],\n",
       " 'F7': [2, 0],\n",
       " 'FC5': [3, 1],\n",
       " 'FC1': [3, 3],\n",
       " 'C3': [4, 2],\n",
       " 'T7': [4, 0],\n",
       " 'CP5': [5, 1],\n",
       " 'CP1': [5, 3],\n",
       " 'P3': [6, 2],\n",
       " 'P7': [6, 0],\n",
       " 'PO3': [7, 3],\n",
       " 'O1': [8, 3],\n",
       " 'OZ': [8, 4],\n",
       " 'PZ': [6, 4],\n",
       " 'FP2': [0, 5],\n",
       " 'AF4': [1, 5],\n",
       " 'FZ': [2, 4],\n",
       " 'F4': [2, 6],\n",
       " 'F8': [2, 8],\n",
       " 'FC6': [3, 7],\n",
       " 'FC2': [3, 5],\n",
       " 'CZ': [4, 4],\n",
       " 'C4': [4, 6],\n",
       " 'T8': [4, 8],\n",
       " 'CP6': [5, 7],\n",
       " 'CP2': [5, 5],\n",
       " 'P4': [6, 6],\n",
       " 'P8': [6, 8],\n",
       " 'PO4': [7, 5],\n",
       " 'O2': [8, 5]}"
      ]
     },
     "execution_count": 18,
     "metadata": {},
     "output_type": "execute_result"
    }
   ],
   "source": [
    "from torcheeg.datasets.constants import \\\n",
    "    DEAP_CHANNEL_LOCATION_DICT\n",
    "\n",
    "DEAP_CHANNEL_LOCATION_DICT"
   ]
  },
  {
   "cell_type": "code",
   "execution_count": 85,
   "id": "54bc7cec-28a3-4fd2-9672-253e52109694",
   "metadata": {},
   "outputs": [],
   "source": [
    "plot_raw_signal(train_set)"
   ]
  },
  {
   "cell_type": "code",
   "execution_count": 82,
   "id": "f966b01d-021a-4361-959a-b3a3a5025100",
   "metadata": {},
   "outputs": [],
   "source": []
  },
  {
   "cell_type": "code",
   "execution_count": null,
   "id": "e97045bd-cd25-4a05-ae67-ef5f92661afb",
   "metadata": {},
   "outputs": [],
   "source": [
    "# \n",
    "train_loader = torch.utils.data.DataLoader(train_set, shuffle=True, **loader_args) # [n, ch, seq]\n",
    "val_loader = torch.utils.data.DataLoader(val_set, shuffle=False, **loader_args) # [n, ch, seq]\n",
    "test_loader = torch.utils.data.DataLoader(\n",
    "    test_set, shuffle=False, batch_size=128, num_workers=4\n",
    "    ) # [n, ch, seq]"
   ]
  }
 ],
 "metadata": {
  "kernelspec": {
   "display_name": "Python 3 (ipykernel)",
   "language": "python",
   "name": "python3"
  },
  "language_info": {
   "codemirror_mode": {
    "name": "ipython",
    "version": 3
   },
   "file_extension": ".py",
   "mimetype": "text/x-python",
   "name": "python",
   "nbconvert_exporter": "python",
   "pygments_lexer": "ipython3",
   "version": "3.11.9"
  }
 },
 "nbformat": 4,
 "nbformat_minor": 5
}
